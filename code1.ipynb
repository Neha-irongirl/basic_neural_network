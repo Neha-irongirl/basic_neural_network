{
 "cells": [
  {
   "cell_type": "markdown",
   "metadata": {},
   "source": [
    "## Question 1"
   ]
  },
  {
   "cell_type": "markdown",
   "metadata": {},
   "source": [
    "#### Loading dataset from keras\n",
    "using `from keras.datasets import fashion_mnist`"
   ]
  },
  {
   "cell_type": "code",
   "execution_count": 1,
   "metadata": {},
   "outputs": [
    {
     "name": "stdout",
     "output_type": "stream",
     "text": [
      "Downloading data from https://storage.googleapis.com/tensorflow/tf-keras-datasets/train-labels-idx1-ubyte.gz\n",
      "\u001b[1m29515/29515\u001b[0m \u001b[32m━━━━━━━━━━━━━━━━━━━━\u001b[0m\u001b[37m\u001b[0m \u001b[1m0s\u001b[0m 1us/step\n",
      "Downloading data from https://storage.googleapis.com/tensorflow/tf-keras-datasets/train-images-idx3-ubyte.gz\n",
      "\u001b[1m26421880/26421880\u001b[0m \u001b[32m━━━━━━━━━━━━━━━━━━━━\u001b[0m\u001b[37m\u001b[0m \u001b[1m5s\u001b[0m 0us/step\n",
      "Downloading data from https://storage.googleapis.com/tensorflow/tf-keras-datasets/t10k-labels-idx1-ubyte.gz\n",
      "\u001b[1m5148/5148\u001b[0m \u001b[32m━━━━━━━━━━━━━━━━━━━━\u001b[0m\u001b[37m\u001b[0m \u001b[1m0s\u001b[0m 1us/step\n",
      "Downloading data from https://storage.googleapis.com/tensorflow/tf-keras-datasets/t10k-images-idx3-ubyte.gz\n",
      "\u001b[1m4422102/4422102\u001b[0m \u001b[32m━━━━━━━━━━━━━━━━━━━━\u001b[0m\u001b[37m\u001b[0m \u001b[1m1s\u001b[0m 0us/step\n"
     ]
    }
   ],
   "source": [
    "from tensorflow.keras.datasets import fashion_mnist\n",
    "\n",
    "# Load the dataset (automatically downloads if not available)\n",
    "(x_train, y_train), (x_test, y_test) = fashion_mnist.load_data()"
   ]
  },
  {
   "cell_type": "markdown",
   "metadata": {},
   "source": [
    "#### saving the dataset in working directory"
   ]
  },
  {
   "cell_type": "code",
   "execution_count": 2,
   "metadata": {},
   "outputs": [],
   "source": [
    "import numpy as np\n",
    "\n",
    "np.savez(\"fashion-mnist.npz\", x_train=x_train, y_train=y_train, x_test=x_test, y_test=y_test)\n"
   ]
  },
  {
   "cell_type": "markdown",
   "metadata": {},
   "source": [
    "#### Getting information about the dataset"
   ]
  },
  {
   "cell_type": "code",
   "execution_count": 3,
   "metadata": {},
   "outputs": [
    {
     "name": "stdout",
     "output_type": "stream",
     "text": [
      "Class labels in dataset: [0 1 2 3 4 5 6 7 8 9]\n"
     ]
    }
   ],
   "source": [
    "unique_labels = np.unique(y_train)\n",
    "\n",
    "print(\"Class labels in dataset:\", unique_labels)"
   ]
  },
  {
   "cell_type": "markdown",
   "metadata": {},
   "source": [
    "These labels correspond to 10 different categories of clothing  \n",
    "and are listed on the official website: [Keras Fashion MNIST](https://keras.io/api/datasets/fashion_mnist/)\n",
    "\n",
    "| Label | Description   |\n",
    "|-------|--------------|\n",
    "| 0     | T-shirt/top  |\n",
    "| 1     | Trouser      |\n",
    "| 2     | Pullover     |\n",
    "| 3     | Dress        |\n",
    "| 4     | Coat         |\n",
    "| 5     | Sandal       |\n",
    "| 6     | Shirt        |\n",
    "| 7     | Sneaker      |\n",
    "| 8     | Bag          |\n",
    "| 9     | Ankle boot   |\n"
   ]
  },
  {
   "cell_type": "markdown",
   "metadata": {},
   "source": [
    "#### Showing one image form each class present in the dataset"
   ]
  },
  {
   "cell_type": "code",
   "execution_count": 4,
   "metadata": {},
   "outputs": [
    {
     "name": "stderr",
     "output_type": "stream",
     "text": [
      "wandb: Using wandb-core as the SDK backend.  Please refer to https://wandb.me/wandb-core for more information.\n",
      "wandb: Currently logged in as: amar74384 (amar74384-iit-madras) to https://api.wandb.ai. Use `wandb login --relogin` to force relogin\n"
     ]
    },
    {
     "data": {
      "text/html": [
       "Tracking run with wandb version 0.19.8"
      ],
      "text/plain": [
       "<IPython.core.display.HTML object>"
      ]
     },
     "metadata": {},
     "output_type": "display_data"
    },
    {
     "data": {
      "text/html": [
       "Run data is saved locally in <code>c:\\Users\\Amar\\Desktop\\MTech\\2nd sem\\DL\\assign_1\\da6401_assignment1\\wandb\\run-20250316_100136-e1vwhj5c</code>"
      ],
      "text/plain": [
       "<IPython.core.display.HTML object>"
      ]
     },
     "metadata": {},
     "output_type": "display_data"
    },
    {
     "data": {
      "text/html": [
       "Syncing run <strong><a href='https://wandb.ai/amar74384-iit-madras/DA6401_assign_1/runs/e1vwhj5c' target=\"_blank\">skilled-resonance-1285</a></strong> to <a href='https://wandb.ai/amar74384-iit-madras/DA6401_assign_1' target=\"_blank\">Weights & Biases</a> (<a href='https://wandb.me/developer-guide' target=\"_blank\">docs</a>)<br>"
      ],
      "text/plain": [
       "<IPython.core.display.HTML object>"
      ]
     },
     "metadata": {},
     "output_type": "display_data"
    },
    {
     "data": {
      "text/html": [
       " View project at <a href='https://wandb.ai/amar74384-iit-madras/DA6401_assign_1' target=\"_blank\">https://wandb.ai/amar74384-iit-madras/DA6401_assign_1</a>"
      ],
      "text/plain": [
       "<IPython.core.display.HTML object>"
      ]
     },
     "metadata": {},
     "output_type": "display_data"
    },
    {
     "data": {
      "text/html": [
       " View run at <a href='https://wandb.ai/amar74384-iit-madras/DA6401_assign_1/runs/e1vwhj5c' target=\"_blank\">https://wandb.ai/amar74384-iit-madras/DA6401_assign_1/runs/e1vwhj5c</a>"
      ],
      "text/plain": [
       "<IPython.core.display.HTML object>"
      ]
     },
     "metadata": {},
     "output_type": "display_data"
    },
    {
     "name": "stderr",
     "output_type": "stream",
     "text": [
      "wandb: WARNING Calling wandb.run.save without any arguments is deprecated.Changes to attributes are automatically persisted.\n"
     ]
    },
    {
     "data": {
      "image/png": "[encoded data removed]",
      "text/plain": [
       "<Figure size 600x300 with 10 Axes>"
      ]
     },
     "metadata": {},
     "output_type": "display_data"
    },
    {
     "data": {
      "text/html": [],
      "text/plain": [
       "<IPython.core.display.HTML object>"
      ]
     },
     "metadata": {},
     "output_type": "display_data"
    },
    {
     "data": {
      "text/html": [
       " View run <strong style=\"color:#cdcd00\">sample_images_run</strong> at: <a href='https://wandb.ai/amar74384-iit-madras/DA6401_assign_1/runs/e1vwhj5c' target=\"_blank\">https://wandb.ai/amar74384-iit-madras/DA6401_assign_1/runs/e1vwhj5c</a><br> View project at: <a href='https://wandb.ai/amar74384-iit-madras/DA6401_assign_1' target=\"_blank\">https://wandb.ai/amar74384-iit-madras/DA6401_assign_1</a><br>Synced 5 W&B file(s), 1 media file(s), 0 artifact file(s) and 0 other file(s)"
      ],
      "text/plain": [
       "<IPython.core.display.HTML object>"
      ]
     },
     "metadata": {},
     "output_type": "display_data"
    },
    {
     "data": {
      "text/html": [
       "Find logs at: <code>.\\wandb\\run-20250316_100136-e1vwhj5c\\logs</code>"
      ],
      "text/plain": [
       "<IPython.core.display.HTML object>"
      ]
     },
     "metadata": {},
     "output_type": "display_data"
    }
   ],
   "source": [
    "import matplotlib.pyplot as plt\n",
    "import wandb\n",
    "\n",
    "\n",
    "# Initialize WandB\n",
    "wandb.init(entity=\"amar74384-iit-madras\", project=\"DA6401_assign_1\")\n",
    "run_name = f\"sample_images_run\"\n",
    "wandb.run.name = run_name\n",
    "wandb.run.save()\n",
    "# Class names (official from dataset)\n",
    "class_names = [\"T-shirt/top\", \"Trouser\", \"Pullover\", \"Dress\", \"Coat\",\n",
    "               \"Sandal\", \"Shirt\", \"Sneaker\", \"Bag\", \"Ankle boot\"]\n",
    "\n",
    "# Select one image for each class\n",
    "selected_images = []\n",
    "for i in range(10):\n",
    "    index = np.where(y_train == i)[0][0]  # Get first occurrence of class\n",
    "    selected_images.append((x_train[index], class_names[i]))\n",
    "\n",
    "# Plot images\n",
    "fig, ax = plt.subplots(2, 5, figsize=(6, 3))\n",
    "for i, (image, label) in enumerate(selected_images):\n",
    "    ax[i // 5, i % 5].imshow(image, cmap=\"gray\")\n",
    "    ax[i // 5, i % 5].set_title(label)\n",
    "    ax[i // 5, i % 5].axis(\"off\")\n",
    "\n",
    "plt.tight_layout()\n",
    "\n",
    "# Log figure to WandB\n",
    "wandb.log({\"Samples Image Form Each Class\": wandb.Image(fig)})\n",
    "\n",
    "plt.show()\n",
    "\n",
    "\n",
    "# Finish WandB run\n",
    "wandb.finish()\n"
   ]
  }
 ],
 "metadata": {
  "kernelspec": {
   "display_name": "base",
   "language": "python",
   "name": "python3"
  },
  "language_info": {
   "codemirror_mode": {
    "name": "ipython",
    "version": 3
   },
   "file_extension": ".py",
   "mimetype": "text/x-python",
   "name": "python",
   "nbconvert_exporter": "python",
   "pygments_lexer": "ipython3",
   "version": "3.12.4"
  }
 },
 "nbformat": 4,
 "nbformat_minor": 2
}
